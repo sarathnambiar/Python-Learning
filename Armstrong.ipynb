{
  "nbformat": 4,
  "nbformat_minor": 0,
  "metadata": {
    "colab": {
      "name": "Armstrong.ipynb",
      "version": "0.3.2",
      "provenance": [],
      "include_colab_link": true
    },
    "kernelspec": {
      "name": "python3",
      "display_name": "Python 3"
    }
  },
  "cells": [
    {
      "cell_type": "markdown",
      "metadata": {
        "id": "view-in-github",
        "colab_type": "text"
      },
      "source": [
        "<a href=\"https://colab.research.google.com/github/sarathnambiar/Python-Learning/blob/master/Armstrong.ipynb\" target=\"_parent\"><img src=\"https://colab.research.google.com/assets/colab-badge.svg\" alt=\"Open In Colab\"/></a>"
      ]
    },
    {
      "cell_type": "markdown",
      "metadata": {
        "id": "mqPcakLdXVSB",
        "colab_type": "text"
      },
      "source": [
        "**Q**: Check armstrong number or not"
      ]
    },
    {
      "cell_type": "code",
      "metadata": {
        "id": "1SlftQzvXmJR",
        "colab_type": "code",
        "colab": {
          "base_uri": "https://localhost:8080/",
          "height": 51
        },
        "outputId": "42ceddd1-6d06-4a8d-e1c3-5ed945dded2a"
      },
      "source": [
        "n = int(input(\"Enter number\"))\n",
        "sum=0\n",
        "temp = n\n",
        "\n",
        "while temp > 0 :\n",
        "  j = temp % 10\n",
        "  sum = sum + j**3\n",
        "  temp = temp // 10\n",
        "  \n",
        "if (sum==n):\n",
        "    print(\"Armstrong\")\n",
        "else:\n",
        "  print(\"Not Armstrong\")  \n",
        "  "
      ],
      "execution_count": 12,
      "outputs": [
        {
          "output_type": "stream",
          "text": [
            "Enter number407\n",
            "Armstrong\n"
          ],
          "name": "stdout"
        }
      ]
    }
  ]
}